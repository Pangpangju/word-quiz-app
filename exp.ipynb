{
 "cells": [
  {
   "cell_type": "code",
   "execution_count": null,
   "id": "7368fc71",
   "metadata": {
    "vscode": {
     "languageId": "plaintext"
    }
   },
   "outputs": [],
   "source": [
    "import pandas as pd\n",
    "\n",
    "# CSV 파일 불러오기\n",
    "df = pd.read_csv('public/word.csv')  # 파일명에 맞게 수정\n",
    "\n",
    "# 데이터 행 섞기 (랜덤 셔플)\n",
    "df_shuffled = df.sample(frac=1).reset_index(drop=True)\n",
    "\n",
    "# 결과 저장 (덮어쓰기 or 새 파일)\n",
    "df_shuffled.to_csv('public/word.csv', index=False)"
   ]
  }
 ],
 "metadata": {
  "language_info": {
   "name": "python"
  }
 },
 "nbformat": 4,
 "nbformat_minor": 5
}
